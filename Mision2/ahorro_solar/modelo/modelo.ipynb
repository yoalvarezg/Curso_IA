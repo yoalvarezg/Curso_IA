{
 "cells": [
  {
   "cell_type": "code",
   "execution_count": null,
   "id": "baf7391a",
   "metadata": {},
   "outputs": [],
   "source": [
    "import pandas as pd\n",
    "from sklearn.linear_model import LinearRegression\n",
    "from sklearn.model_selection import train_test_split\n",
    "import pickle\n",
    "\n",
    "data ={\n",
    "    'ubicacion':['zona_1','zona_2','zona_1','zona_3','zona_2'],\n",
    "    'tamano_hogar':[3,4,2,5,3],\n",
    "    'costo_instalacion':[5000,6000,4500,7000,5200],\n",
    "    'energia_generada':[3000,32000,2500,4000,2900],\n",
    "    'ahorro_real':[1800,2000,1500,2300,1750]\n",
    "}\n",
    "df=pd.DataFrame(data)\n",
    "print(df)"
   ]
  }
 ],
 "metadata": {
  "language_info": {
   "name": "python"
  }
 },
 "nbformat": 4,
 "nbformat_minor": 5
}
